{
 "cells": [
  {
   "cell_type": "markdown",
   "metadata": {},
   "source": [
    "Connected to Python 3.9.6"
   ]
  },
  {
   "cell_type": "code",
   "execution_count": 1,
   "id": "d825cbcb-558c-4ecc-8304-acf6e294f38c",
   "metadata": {},
   "outputs": [
    {
     "name": "stdout",
     "output_type": "stream",
     "text": [
      "AshishKumar\n"
     ]
    }
   ],
   "source": [
    "print('AshishKumar')"
   ]
  },
  {
   "cell_type": "code",
   "execution_count": 2,
   "id": "1ea74cf9-ee7f-48a2-91ba-6bdf043e368d",
   "metadata": {},
   "outputs": [
    {
     "name": "stdout",
     "output_type": "stream",
     "text": [
      "AshishKumar\n"
     ]
    },
    {
     "data": {
      "text/plain": [
       "str"
      ]
     },
     "execution_count": 2,
     "metadata": {},
     "output_type": "execute_result"
    }
   ],
   "source": [
    "print('AshishKumar')\n",
    "\n",
    "my_name = 'AshishKumar'\n",
    "type(my_name)"
   ]
  },
  {
   "cell_type": "code",
   "execution_count": 3,
   "id": "61d061a5-212a-4c30-a114-32c046348ad5",
   "metadata": {},
   "outputs": [
    {
     "name": "stdout",
     "output_type": "stream",
     "text": [
      "AshishKumar\n"
     ]
    },
    {
     "data": {
      "text/plain": [
       "str"
      ]
     },
     "execution_count": 3,
     "metadata": {},
     "output_type": "execute_result"
    }
   ],
   "source": [
    "print('AshishKumar')\n",
    "\n",
    "my_name = 'AshishKumar'\n",
    "type(my_name)\n",
    "\n",
    "num_as_string = '3'\n",
    "type(num_as_string)"
   ]
  },
  {
   "cell_type": "code",
   "execution_count": 4,
   "id": "1c77b0a4-dd42-4cf2-9bf0-3f88dc715adc",
   "metadata": {},
   "outputs": [
    {
     "name": "stdout",
     "output_type": "stream",
     "text": [
      "AshishKumar\n"
     ]
    },
    {
     "data": {
      "text/plain": [
       "str"
      ]
     },
     "execution_count": 4,
     "metadata": {},
     "output_type": "execute_result"
    }
   ],
   "source": [
    "print('AshishKumar')\n",
    "\n",
    "my_name = 'AshishKumar'\n",
    "type(my_name)\n",
    "\n",
    "num_as_string = '3'\n",
    "type(num_as_string)"
   ]
  },
  {
   "cell_type": "code",
   "execution_count": 5,
   "id": "32de5224-ec1c-470d-b84e-9acb63c6f9b3",
   "metadata": {},
   "outputs": [
    {
     "name": "stdout",
     "output_type": "stream",
     "text": [
      "AshishKumar\n"
     ]
    },
    {
     "data": {
      "text/plain": [
       "str"
      ]
     },
     "execution_count": 5,
     "metadata": {},
     "output_type": "execute_result"
    }
   ],
   "source": [
    "print('AshishKumar')\n",
    "\n",
    "my_name = 'AshishKumar'\n",
    "type(my_name)\n",
    "\n",
    "num_as_string = '3'\n",
    "type(num_as_string)"
   ]
  },
  {
   "cell_type": "code",
   "execution_count": 6,
   "id": "3e2abbd5-fbc7-4152-9c1b-1e80fb7b7cc8",
   "metadata": {},
   "outputs": [
    {
     "name": "stdout",
     "output_type": "stream",
     "text": [
      "AshishKumar\n"
     ]
    },
    {
     "data": {
      "text/plain": [
       "str"
      ]
     },
     "execution_count": 6,
     "metadata": {},
     "output_type": "execute_result"
    }
   ],
   "source": [
    "print('AshishKumar')\n",
    "\n",
    "my_name = 'AshishKumar'\n",
    "type(my_name)\n",
    "\n",
    "num_a = '3'\n",
    "type(num_a)"
   ]
  },
  {
   "cell_type": "code",
   "execution_count": 7,
   "id": "4756c0ec-3368-41c1-bfc1-26bfff7ff8ea",
   "metadata": {},
   "outputs": [
    {
     "name": "stdout",
     "output_type": "stream",
     "text": [
      "AshishKumar\n",
      "33\n"
     ]
    }
   ],
   "source": [
    "print('AshishKumar')\n",
    "\n",
    "my_name = 'AshishKumar'\n",
    "type(my_name)\n",
    "\n",
    "num_a = '3'\n",
    "type(num_a)\n",
    "print(num_a + num_a)"
   ]
  },
  {
   "cell_type": "code",
   "execution_count": 8,
   "metadata": {},
   "outputs": [
    {
     "data": {
      "text/plain": [
       "'a'"
      ]
     },
     "execution_count": 8,
     "metadata": {},
     "output_type": "execute_result"
    }
   ],
   "source": [
    "my_name[-2]"
   ]
  },
  {
   "cell_type": "code",
   "execution_count": 9,
   "metadata": {},
   "outputs": [
    {
     "data": {
      "text/plain": [
       "'r'"
      ]
     },
     "execution_count": 9,
     "metadata": {},
     "output_type": "execute_result"
    }
   ],
   "source": [
    "my_name[-1]"
   ]
  },
  {
   "cell_type": "code",
   "execution_count": 10,
   "metadata": {},
   "outputs": [],
   "source": [
    "apha = 'abcdef'"
   ]
  },
  {
   "cell_type": "code",
   "execution_count": 11,
   "metadata": {},
   "outputs": [
    {
     "data": {
      "text/plain": [
       "'ab'"
      ]
     },
     "execution_count": 11,
     "metadata": {},
     "output_type": "execute_result"
    }
   ],
   "source": [
    "apha[0:2]"
   ]
  },
  {
   "cell_type": "code",
   "execution_count": 12,
   "metadata": {},
   "outputs": [
    {
     "data": {
      "text/plain": [
       "'c'"
      ]
     },
     "execution_count": 12,
     "metadata": {},
     "output_type": "execute_result"
    }
   ],
   "source": [
    "apha[2:3]"
   ]
  },
  {
   "cell_type": "code",
   "execution_count": 13,
   "metadata": {},
   "outputs": [
    {
     "data": {
      "text/plain": [
       "'ink'"
      ]
     },
     "execution_count": 13,
     "metadata": {},
     "output_type": "execute_result"
    }
   ],
   "source": [
    "'tinker'[1:4]"
   ]
  },
  {
   "cell_type": "code",
   "execution_count": 14,
   "id": "ade94d51-fce2-43b3-9dd7-a5d20e9bd128",
   "metadata": {},
   "outputs": [
    {
     "name": "stdout",
     "output_type": "stream",
     "text": [
      "AshishKumar\n",
      "33\n",
      "Rishita is good\n"
     ]
    }
   ],
   "source": [
    "print('AshishKumar')\n",
    "\n",
    "my_name = 'AshishKumar'\n",
    "type(my_name)\n",
    "\n",
    "num_a = '3'\n",
    "type(num_a)\n",
    "print(num_a + num_a)\n",
    "\n",
    "my_name[-2]\n",
    "\n",
    "\n",
    "print('Rishita {} {}'.format('is', 'good'))"
   ]
  },
  {
   "cell_type": "code",
   "execution_count": 15,
   "id": "fae017b9-b13c-4c7a-9d40-863d0622a76c",
   "metadata": {},
   "outputs": [
    {
     "name": "stdout",
     "output_type": "stream",
     "text": [
      "AshishKumar\n",
      "33\n",
      "Rishita is komali\n"
     ]
    }
   ],
   "source": [
    "print('AshishKumar')\n",
    "\n",
    "my_name = 'AshishKumar'\n",
    "type(my_name)\n",
    "\n",
    "num_a = '3'\n",
    "type(num_a)\n",
    "print(num_a + num_a)\n",
    "\n",
    "my_name[-2]\n",
    "\n",
    "\n",
    "print('Rishita {0} {3}'.format('is', 'good', 'bad', 'komali'))"
   ]
  },
  {
   "cell_type": "code",
   "execution_count": 16,
   "id": "76c98f6d-14f1-4477-9242-c259ca20f081",
   "metadata": {},
   "outputs": [
    {
     "name": "stdout",
     "output_type": "stream",
     "text": [
      "AshishKumar\n",
      "33\n",
      "Rishita is bad\n"
     ]
    }
   ],
   "source": [
    "print('AshishKumar')\n",
    "\n",
    "my_name = 'AshishKumar'\n",
    "type(my_name)\n",
    "\n",
    "num_a = '3'\n",
    "type(num_a)\n",
    "print(num_a + num_a)\n",
    "\n",
    "my_name[-2]\n",
    "\n",
    "\n",
    "print('Rishita {0} {2}'.format('is', 'good', 'bad', 'komali'))"
   ]
  },
  {
   "cell_type": "code",
   "execution_count": 17,
   "id": "01d86f2d-d2f6-4308-9c69-3106433fc945",
   "metadata": {},
   "outputs": [
    {
     "name": "stdout",
     "output_type": "stream",
     "text": [
      "AshishKumar\n",
      "33\n",
      "Rishita is good\n"
     ]
    }
   ],
   "source": [
    "print('AshishKumar')\n",
    "\n",
    "my_name = 'AshishKumar'\n",
    "type(my_name)\n",
    "\n",
    "num_a = '3'\n",
    "type(num_a)\n",
    "print(num_a + num_a)\n",
    "\n",
    "my_name[-2]\n",
    "\n",
    "\n",
    "print('Rishita {0} {1}'.format('is', 'good', 'bad', 'komali'))"
   ]
  },
  {
   "cell_type": "code",
   "execution_count": 18,
   "metadata": {},
   "outputs": [
    {
     "ename": "NameError",
     "evalue": "name 'my_list' is not defined",
     "output_type": "error",
     "traceback": [
      "\u001b[0;31m---------------------------------------------------------------------------\u001b[0m",
      "\u001b[0;31mNameError\u001b[0m                                 Traceback (most recent call last)",
      "Cell \u001b[0;32mIn[18], line 1\u001b[0m\n\u001b[0;32m----> 1\u001b[0m my_list[\u001b[39m'\u001b[39m\u001b[39mone\u001b[39m\u001b[39m'\u001b[39m, \u001b[39m'\u001b[39m\u001b[39mtwo\u001b[39m\u001b[39m'\u001b[39m, \u001b[39m'\u001b[39m\u001b[39mthree\u001b[39m\u001b[39m'\u001b[39m]\n",
      "\u001b[0;31mNameError\u001b[0m: name 'my_list' is not defined"
     ]
    }
   ],
   "source": [
    "my_list['one', 'two', 'three']"
   ]
  },
  {
   "cell_type": "code",
   "execution_count": 19,
   "metadata": {},
   "outputs": [],
   "source": [
    "my_list = ['one', 'two', 'three']"
   ]
  },
  {
   "cell_type": "code",
   "execution_count": 20,
   "metadata": {},
   "outputs": [
    {
     "ename": "NameError",
     "evalue": "name 'new_list' is not defined",
     "output_type": "error",
     "traceback": [
      "\u001b[0;31m---------------------------------------------------------------------------\u001b[0m",
      "\u001b[0;31mNameError\u001b[0m                                 Traceback (most recent call last)",
      "Cell \u001b[0;32mIn[20], line 1\u001b[0m\n\u001b[0;32m----> 1\u001b[0m new_list[\u001b[39m0\u001b[39m] \u001b[39m=\u001b[39m \u001b[39m'\u001b[39m\u001b[39mfour\u001b[39m\u001b[39m'\u001b[39m\n",
      "\u001b[0;31mNameError\u001b[0m: name 'new_list' is not defined"
     ]
    }
   ],
   "source": [
    "new_list[0] = 'four'"
   ]
  },
  {
   "cell_type": "code",
   "execution_count": 21,
   "metadata": {},
   "outputs": [
    {
     "ename": "NameError",
     "evalue": "name 'my' is not defined",
     "output_type": "error",
     "traceback": [
      "\u001b[0;31m---------------------------------------------------------------------------\u001b[0m",
      "\u001b[0;31mNameError\u001b[0m                                 Traceback (most recent call last)",
      "Cell \u001b[0;32mIn[21], line 1\u001b[0m\n\u001b[0;32m----> 1\u001b[0m my[\u001b[39m0\u001b[39m] \u001b[39m=\u001b[39m \u001b[39m'\u001b[39m\u001b[39mfour\u001b[39m\u001b[39m'\u001b[39m\n",
      "\u001b[0;31mNameError\u001b[0m: name 'my' is not defined"
     ]
    }
   ],
   "source": [
    "my[0] = 'four'"
   ]
  },
  {
   "cell_type": "code",
   "execution_count": 22,
   "metadata": {},
   "outputs": [],
   "source": [
    "my_list[0] = 'four'"
   ]
  },
  {
   "cell_type": "code",
   "execution_count": 23,
   "metadata": {},
   "outputs": [
    {
     "ename": "NameError",
     "evalue": "name 'my' is not defined",
     "output_type": "error",
     "traceback": [
      "\u001b[0;31m---------------------------------------------------------------------------\u001b[0m",
      "\u001b[0;31mNameError\u001b[0m                                 Traceback (most recent call last)",
      "Cell \u001b[0;32mIn[23], line 1\u001b[0m\n\u001b[0;32m----> 1\u001b[0m \u001b[39mprint\u001b[39m(my)\n",
      "\u001b[0;31mNameError\u001b[0m: name 'my' is not defined"
     ]
    }
   ],
   "source": [
    "print(my)"
   ]
  },
  {
   "cell_type": "code",
   "execution_count": 4,
   "metadata": {},
   "outputs": [
    {
     "name": "stderr",
     "output_type": "stream",
     "text": [
      "319.71s - pydevd: Sending message related to process being replaced timed-out after 5 seconds\n"
     ]
    },
    {
     "name": "stdout",
     "output_type": "stream",
     "text": [
      "\u001b[34mApplications\u001b[m\u001b[m/ \u001b[34mVolumes\u001b[m\u001b[m/      \u001b[35metc\u001b[m\u001b[m@          \u001b[34msbin\u001b[m\u001b[m/\n",
      "\u001b[34mLibrary\u001b[m\u001b[m/      \u001b[34mbin\u001b[m\u001b[m/          \u001b[35mhome\u001b[m\u001b[m@         \u001b[35mtmp\u001b[m\u001b[m@\n",
      "\u001b[34mSystem\u001b[m\u001b[m/       \u001b[34mcores\u001b[m\u001b[m/        \u001b[34mopt\u001b[m\u001b[m/          \u001b[34musr\u001b[m\u001b[m/\n",
      "\u001b[34mUsers\u001b[m\u001b[m/        \u001b[34mdev\u001b[m\u001b[m/          \u001b[34mprivate\u001b[m\u001b[m/      \u001b[35mvar\u001b[m\u001b[m@\n"
     ]
    }
   ],
   "source": []
  }
 ],
 "metadata": {
  "kernelspec": {
   "display_name": "Python 3",
   "language": "python",
   "name": "python3"
  },
  "language_info": {
   "codemirror_mode": {
    "name": "ipython",
    "version": 3
   },
   "file_extension": ".py",
   "mimetype": "text/x-python",
   "name": "python",
   "nbconvert_exporter": "python",
   "pygments_lexer": "ipython3",
   "version": "3.9.6"
  }
 },
 "nbformat": 4,
 "nbformat_minor": 2
}
